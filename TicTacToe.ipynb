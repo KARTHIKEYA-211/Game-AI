{
  "nbformat": 4,
  "nbformat_minor": 0,
  "metadata": {
    "colab": {
      "provenance": []
    },
    "kernelspec": {
      "name": "python3",
      "display_name": "Python 3"
    },
    "language_info": {
      "name": "python"
    }
  },
  "cells": [
    {
      "cell_type": "code",
      "execution_count": null,
      "metadata": {
        "id": "hCVZGPt8NbL-"
      },
      "outputs": [],
      "source": [
        "\n",
        "import numpy as np\n",
        "import random\n",
        "\n",
        "class TicTacToeGame():\n",
        "    def __init__(self):\n",
        "        self.state = '         '\n",
        "        self.player = 'X'\n",
        "        self.winner = None\n",
        "\n",
        "    def allowed_moves(self):\n",
        "        states = []\n",
        "        for i in range(len(self.state)):\n",
        "            if self.state[i] == ' ':\n",
        "                states.append(self.state[:i] + self.player + self.state[i+1:])\n",
        "        return states\n",
        "\n",
        "    def make_move(self, next_state):\n",
        "        if self.winner:\n",
        "            raise(Exception(\"Game already completed, cannot make another move!\"))\n",
        "        if not self.__valid_move(next_state):\n",
        "            raise(Exception(\"Cannot make move {} to {} for player {}\".format(\n",
        "                    self.state, next_state, self.player)))\n",
        "\n",
        "        self.state = next_state\n",
        "        self.winner = self.predict_winner(self.state)\n",
        "        if self.winner:\n",
        "            self.player = None\n",
        "        elif self.player == 'X':\n",
        "            self.player = 'O'\n",
        "        else:\n",
        "            self.player = 'X'\n",
        "\n",
        "    def playable(self):\n",
        "        return ( (not self.winner) and any(self.allowed_moves()) )\n",
        "\n",
        "    def predict_winner(self, state):\n",
        "        lines = [(0,1,2), (3,4,5), (6,7,8), (0,3,6), (1,4,7), (2,5,8), (0,4,8), (2,4,6)]\n",
        "        winner = None\n",
        "        for line in lines:\n",
        "            line_state = state[line[0]] + state[line[1]] + state[line[2]]\n",
        "            if line_state == 'XXX':\n",
        "                winner = 'X'\n",
        "            elif line_state == 'OOO':\n",
        "                winner = 'O'\n",
        "        return winner\n",
        "\n",
        "    def __valid_move(self, next_state):\n",
        "        allowed_moves = self.allowed_moves()\n",
        "        if any(state == next_state for state in allowed_moves):\n",
        "            return True\n",
        "        return False\n",
        "\n",
        "    def print_board(self):\n",
        "        s = self.state\n",
        "        print('     {} | {} | {} '.format(s[0],s[1],s[2]))\n",
        "        print('    -----------')\n",
        "        print('     {} | {} | {} '.format(s[3],s[4],s[5]))\n",
        "        print('    -----------')\n",
        "        print('     {} | {} | {} '.format(s[6],s[7],s[8]))\n",
        "\n",
        "\n",
        "class Agent():\n",
        "    def __init__(self, game_class, epsilon=0.1, alpha=0.5, value_player='X'):\n",
        "        self.V = dict()  #dictionary to store value\n",
        "        self.NewGame = game_class\n",
        "        self.epsilon = epsilon\n",
        "        self.alpha = alpha\n",
        "        self.value_player = value_player\n",
        "\n",
        "    def state_value(self, game_state):\n",
        "        return self.V.get(game_state, 0.0)\n",
        "\n",
        "    def learn_game(self, num_episodes=1000):\n",
        "        for episode in range(num_episodes):\n",
        "            self.learn_from_episode()\n",
        "\n",
        "    def learn_from_episode(self):\n",
        "        game = self.NewGame()\n",
        "        _, move = self.learn_select_move(game)\n",
        "        while move:\n",
        "            move = self.learn_from_move(game, move)\n",
        "\n",
        "\n",
        "\n",
        "    def learn_from_move(self, game, move):\n",
        "        game.make_move(move)\n",
        "        r = self.__reward(game)\n",
        "        td_target = r\n",
        "        next_state_value = 0.0\n",
        "        selected_next_move = None\n",
        "        if game.playable():\n",
        "            best_next_move, selected_next_move = self.learn_select_move(game)\n",
        "            next_state_value = self.state_value(best_next_move)\n",
        "        current_state_value = self.state_value(move)\n",
        "        td_target = r + next_state_value\n",
        "        self.V[move] = current_state_value + self.alpha * (td_target - current_state_value)\n",
        "        return selected_next_move\n",
        "\n",
        "    def learn_select_move(self, game):\n",
        "        allowed_state_values = self.__state_values( game.allowed_moves() )\n",
        "        if game.player == self.value_player:\n",
        "            best_move = self.__argmax_V(allowed_state_values)\n",
        "        else:\n",
        "            best_move = self.__argmin_V(allowed_state_values)\n",
        "\n",
        "        selected_move = best_move\n",
        "        if random.random() < self.epsilon:\n",
        "            selected_move = self.__random_V(allowed_state_values)\n",
        "\n",
        "        return (best_move, selected_move)\n",
        "\n",
        "    def play_select_move(self, game):\n",
        "        allowed_state_values = self.__state_values( game.allowed_moves() )\n",
        "        if game.player == self.value_player:\n",
        "            return self.__argmax_V(allowed_state_values)\n",
        "        else:\n",
        "            return self.__random_V(allowed_state_values)\n",
        "\n",
        "    def demo_game(self, verbose=False):\n",
        "        game = self.NewGame()\n",
        "        t = 0\n",
        "        while game.playable():\n",
        "            if verbose:\n",
        "                print(\" \\nTurn {}\\n\".format(t))\n",
        "                game.print_board()\n",
        "            move = self.play_select_move(game)\n",
        "            game.make_move(move)\n",
        "            t += 1\n",
        "        if verbose:\n",
        "            print(\" \\nTurn {}\\n\".format(t))\n",
        "            game.print_board()\n",
        "        if game.winner:\n",
        "            if verbose:\n",
        "                print(\"\\n{} is the winner!\".format(game.winner))\n",
        "            return game.winner\n",
        "        else:\n",
        "            if verbose:\n",
        "                print(\"\\nIt's a draw!\")\n",
        "            return '-'\n",
        "\n",
        "    def interactive_game(self, agent_player='X'):\n",
        "        game = self.NewGame()\n",
        "        t = 0\n",
        "        while game.playable():\n",
        "            print(\" \\nTurn {}\\n\".format(t))\n",
        "            game.print_board()\n",
        "            if game.player == agent_player:\n",
        "                move = self.play_select_move(game)\n",
        "                game.make_move(move)\n",
        "            else:\n",
        "                move = self.__request_human_move(game)\n",
        "                game.make_move(move)\n",
        "            t += 1\n",
        "\n",
        "        print(\" \\nTurn {}\\n\".format(t))\n",
        "        game.print_board()\n",
        "\n",
        "        if game.winner:\n",
        "            print(\"\\n{} is the winner!\".format(game.winner))\n",
        "            return game.winner\n",
        "        print(\"\\nIt's a draw!\")\n",
        "        return '-'\n",
        "\n",
        "    def round_V(self):\n",
        "      for k in self.V.keys():\n",
        "        self.V[k] = round(self.V[k],1)\n",
        "\n",
        "\n",
        "    def __state_values(self, game_states):\n",
        "        return dict((state, self.state_value(state)) for state in game_states)\n",
        "\n",
        "    def __argmax_V(self, state_values):\n",
        "        max_V = max(state_values.values())\n",
        "        chosen_state = random.choice([state for state, v in state_values.items() if v == max_V])\n",
        "        return chosen_state\n",
        "\n",
        "    def __argmin_V(self, state_values):\n",
        "        min_V = min(state_values.values())\n",
        "        chosen_state = random.choice([state for state, v in state_values.items() if v == min_V])\n",
        "        return chosen_state\n",
        "\n",
        "    def __random_V(self, state_values):\n",
        "        return random.choice(list(state_values.keys()))\n",
        "\n",
        "    def __reward(self, game):\n",
        "        if game.winner == self.value_player:\n",
        "            return 1.0\n",
        "        elif game.winner:\n",
        "            return -1.0\n",
        "        else:\n",
        "            return 0.0\n",
        "\n",
        "    def __request_human_move(self, game):\n",
        "        allowed_moves = [i+1 for i in range(9) if game.state[i] == ' ']\n",
        "        human_move = None\n",
        "        while not human_move:\n",
        "            idx = int(input('Choose move for {}, from {} : '.format(game.player, allowed_moves)))\n",
        "            if any([i==idx for i in allowed_moves]):\n",
        "                human_move = game.state[:idx-1] + game.player + game.state[idx:]\n",
        "        return human_move\n",
        "\n",
        "def demo_game_stats(agent):\n",
        "    results = [agent.demo_game() for i in range(10000)]\n",
        "    game_stats = {k: results.count(k)/100 for k in ['X', 'O', '-']}\n",
        "    print(\"    percentage results: {}\".format(game_stats))\n",
        "\n"
      ]
    },
    {
      "cell_type": "markdown",
      "source": [
        "Task 2 is to create an Agent\n"
      ],
      "metadata": {
        "id": "ZI8JUAqsOXyI"
      }
    },
    {
      "cell_type": "code",
      "source": [
        "agent = Agent(TicTacToeGame, epsilon = 0.1, alpha = 0.5, value_player='X')\n",
        "\n",
        "print(\"Before learning:\")\n",
        "demo_game_stats(agent)"
      ],
      "metadata": {
        "colab": {
          "base_uri": "https://localhost:8080/"
        },
        "id": "--DfwMt-OeZi",
        "outputId": "dbf149e3-e825-4459-fa7a-d1e031d76831",
        "collapsed": true
      },
      "execution_count": null,
      "outputs": [
        {
          "output_type": "stream",
          "name": "stdout",
          "text": [
            "Before learning:\n",
            "    percentage results: {'X': 59.19, 'O': 28.46, '-': 12.35}\n"
          ]
        }
      ]
    },
    {
      "cell_type": "markdown",
      "source": [
        "Task 3: Playing against the agent\n"
      ],
      "metadata": {
        "id": "ryuKaHppOxOg"
      }
    },
    {
      "cell_type": "code",
      "source": [
        "agent.interactive_game()"
      ],
      "metadata": {
        "colab": {
          "base_uri": "https://localhost:8080/"
        },
        "id": "BG_AVwqBO0l5",
        "outputId": "a213fa5c-434c-44b3-a88a-a85b645bf318",
        "collapsed": true
      },
      "execution_count": null,
      "outputs": [
        {
          "output_type": "stream",
          "name": "stdout",
          "text": [
            " \n",
            "Turn 0\n",
            "\n",
            "       |   |   \n",
            "    -----------\n",
            "       |   |   \n",
            "    -----------\n",
            "       |   |   \n",
            " \n",
            "Turn 1\n",
            "\n",
            "       |   |   \n",
            "    -----------\n",
            "     X |   |   \n",
            "    -----------\n",
            "       |   |   \n"
          ]
        }
      ]
    },
    {
      "cell_type": "markdown",
      "source": [
        "Task 4: Training the agent"
      ],
      "metadata": {
        "id": "Uzn48gJUO7Cj"
      }
    },
    {
      "cell_type": "code",
      "source": [
        "agent.learn_game(1000)\n",
        "print(\"After 1000 learning games:\")\n",
        "demo_game_stats(agent)"
      ],
      "metadata": {
        "colab": {
          "base_uri": "https://localhost:8080/"
        },
        "id": "F0mt07nLPHVA",
        "outputId": "114cce72-f1a1-49e7-aa95-bf81fb57783e",
        "collapsed": true
      },
      "execution_count": null,
      "outputs": [
        {
          "output_type": "stream",
          "name": "stdout",
          "text": [
            "After 1000 learning games:\n",
            "    percentage results: {'X': 74.65, 'O': 16.52, '-': 8.83}\n"
          ]
        }
      ]
    },
    {
      "cell_type": "code",
      "source": [
        "agent.interactive_game()"
      ],
      "metadata": {
        "colab": {
          "base_uri": "https://localhost:8080/",
          "height": 1000
        },
        "id": "gniJ-_KYPHol",
        "outputId": "3f6a7555-98f5-49a6-a5a0-930b494f9bd4",
        "collapsed": true
      },
      "execution_count": null,
      "outputs": [
        {
          "output_type": "stream",
          "name": "stdout",
          "text": [
            " \n",
            "Turn 0\n",
            "\n",
            "       |   |   \n",
            "    -----------\n",
            "       |   |   \n",
            "    -----------\n",
            "       |   |   \n",
            " \n",
            "Turn 1\n",
            "\n",
            "       |   | X \n",
            "    -----------\n",
            "       |   |   \n",
            "    -----------\n",
            "       |   |   \n",
            "Choose move for O, from [1, 2, 4, 5, 6, 7, 8, 9] : 5\n",
            " \n",
            "Turn 2\n",
            "\n",
            "       |   | X \n",
            "    -----------\n",
            "       | O |   \n",
            "    -----------\n",
            "       |   |   \n",
            " \n",
            "Turn 3\n",
            "\n",
            "       |   | X \n",
            "    -----------\n",
            "       | O |   \n",
            "    -----------\n",
            "     X |   |   \n",
            "Choose move for O, from [1, 2, 4, 6, 8, 9] : 7\n",
            "Choose move for O, from [1, 2, 4, 6, 8, 9] : 8\n",
            " \n",
            "Turn 4\n",
            "\n",
            "       |   | X \n",
            "    -----------\n",
            "       | O |   \n",
            "    -----------\n",
            "     X | O |   \n",
            " \n",
            "Turn 5\n",
            "\n",
            "       | X | X \n",
            "    -----------\n",
            "       | O |   \n",
            "    -----------\n",
            "     X | O |   \n",
            "Choose move for O, from [1, 4, 6, 9] : 1\n",
            " \n",
            "Turn 6\n",
            "\n",
            "     O | X | X \n",
            "    -----------\n",
            "       | O |   \n",
            "    -----------\n",
            "     X | O |   \n",
            " \n",
            "Turn 7\n",
            "\n",
            "     O | X | X \n",
            "    -----------\n",
            "       | O | X \n",
            "    -----------\n",
            "     X | O |   \n",
            "Choose move for O, from [4, 9] : 9\n",
            " \n",
            "Turn 8\n",
            "\n",
            "     O | X | X \n",
            "    -----------\n",
            "       | O | X \n",
            "    -----------\n",
            "     X | O | O \n",
            "\n",
            "O is the winner!\n"
          ]
        },
        {
          "output_type": "execute_result",
          "data": {
            "text/plain": [
              "'O'"
            ],
            "application/vnd.google.colaboratory.intrinsic+json": {
              "type": "string"
            }
          },
          "metadata": {},
          "execution_count": 5
        }
      ]
    },
    {
      "cell_type": "markdown",
      "source": [
        "Task 5 : Training again\n"
      ],
      "metadata": {
        "id": "LsyhgTwoPPHO"
      }
    },
    {
      "cell_type": "code",
      "source": [
        "agent.interactive_game()"
      ],
      "metadata": {
        "colab": {
          "base_uri": "https://localhost:8080/",
          "height": 1000
        },
        "id": "rqHlNmaFPVfA",
        "outputId": "c152613b-eee9-438f-b764-88014babfb61",
        "collapsed": true
      },
      "execution_count": null,
      "outputs": [
        {
          "output_type": "stream",
          "name": "stdout",
          "text": [
            " \n",
            "Turn 0\n",
            "\n",
            "       |   |   \n",
            "    -----------\n",
            "       |   |   \n",
            "    -----------\n",
            "       |   |   \n",
            " \n",
            "Turn 1\n",
            "\n",
            "       |   |   \n",
            "    -----------\n",
            "       | X |   \n",
            "    -----------\n",
            "       |   |   \n",
            "Choose move for O, from [1, 2, 3, 4, 6, 7, 8, 9] : 3\n",
            " \n",
            "Turn 2\n",
            "\n",
            "       |   | O \n",
            "    -----------\n",
            "       | X |   \n",
            "    -----------\n",
            "       |   |   \n",
            " \n",
            "Turn 3\n",
            "\n",
            "     X |   | O \n",
            "    -----------\n",
            "       | X |   \n",
            "    -----------\n",
            "       |   |   \n",
            "Choose move for O, from [2, 4, 6, 7, 8, 9] : 9\n",
            " \n",
            "Turn 4\n",
            "\n",
            "     X |   | O \n",
            "    -----------\n",
            "       | X |   \n",
            "    -----------\n",
            "       |   | O \n",
            " \n",
            "Turn 5\n",
            "\n",
            "     X | X | O \n",
            "    -----------\n",
            "       | X |   \n",
            "    -----------\n",
            "       |   | O \n",
            "Choose move for O, from [4, 6, 7, 8] : 8\n",
            " \n",
            "Turn 6\n",
            "\n",
            "     X | X | O \n",
            "    -----------\n",
            "       | X |   \n",
            "    -----------\n",
            "       | O | O \n",
            " \n",
            "Turn 7\n",
            "\n",
            "     X | X | O \n",
            "    -----------\n",
            "       | X | X \n",
            "    -----------\n",
            "       | O | O \n",
            "Choose move for O, from [4, 7] : 7\n",
            " \n",
            "Turn 8\n",
            "\n",
            "     X | X | O \n",
            "    -----------\n",
            "       | X | X \n",
            "    -----------\n",
            "     O | O | O \n",
            "\n",
            "O is the winner!\n"
          ]
        },
        {
          "output_type": "execute_result",
          "data": {
            "text/plain": [
              "'O'"
            ],
            "application/vnd.google.colaboratory.intrinsic+json": {
              "type": "string"
            }
          },
          "metadata": {},
          "execution_count": 6
        }
      ]
    }
  ]
}